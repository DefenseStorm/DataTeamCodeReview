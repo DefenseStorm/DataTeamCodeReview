{
 "cells": [
  {
   "cell_type": "markdown",
   "id": "315a2589",
   "metadata": {},
   "source": [
    "# Titanic Survival Classification\n",
    "There are a number of issues with the Python and also with the data science in this notebook. "
   ]
  },
  {
   "cell_type": "code",
   "execution_count": 56,
   "id": "103a473c",
   "metadata": {},
   "outputs": [
    {
     "data": {
      "text/plain": [
       "PassengerId      0\n",
       "Survived         0\n",
       "Pclass           0\n",
       "Name             0\n",
       "Sex              0\n",
       "Age            177\n",
       "SibSp            0\n",
       "Parch            0\n",
       "Ticket           0\n",
       "Fare             0\n",
       "Cabin          687\n",
       "Embarked         2\n",
       "dtype: int64"
      ]
     },
     "execution_count": 56,
     "metadata": {},
     "output_type": "execute_result"
    }
   ],
   "source": [
    "import pandas as pd\n",
    "import json\n",
    "from sklearn.model_selection import train_test_split\n",
    "from sklearn import preprocessing\n",
    "from sklearn import ensemble\n",
    "from sklearn.metrics import confusion_matrix, ConfusionMatrixDisplay, accuracy_score\n",
    "\n",
    "df = pd.read_csv('/Users/savsec/Downloads/train.csv')\n",
    "\n",
    "\n",
    "\n",
    "df.isna().sum()"
   ]
  },
  {
   "cell_type": "code",
   "execution_count": 57,
   "id": "ca0a6056",
   "metadata": {},
   "outputs": [
    {
     "data": {
      "text/plain": [
       "PassengerId      int64\n",
       "Survived         int64\n",
       "Pclass           int64\n",
       "Name            object\n",
       "Sex             object\n",
       "Age            float64\n",
       "SibSp            int64\n",
       "Parch            int64\n",
       "Ticket          object\n",
       "Fare           float64\n",
       "Cabin           object\n",
       "Embarked        object\n",
       "dtype: object"
      ]
     },
     "execution_count": 57,
     "metadata": {},
     "output_type": "execute_result"
    }
   ],
   "source": [
    "df.dtypes"
   ]
  },
  {
   "cell_type": "markdown",
   "id": "1a2741e9",
   "metadata": {},
   "source": [
    "## Clean-up of Missings & Categorical Variables"
   ]
  },
  {
   "cell_type": "code",
   "execution_count": 60,
   "id": "9968d9c8",
   "metadata": {},
   "outputs": [],
   "source": [
    "relevant = ['Survived', 'Pclass', 'Sex', 'Age', 'SibSp', 'Parch', 'Fare', 'Cabin', 'Embarked']"
   ]
  },
  {
   "cell_type": "code",
   "execution_count": 61,
   "id": "6c1d3dbb",
   "metadata": {},
   "outputs": [],
   "source": [
    "df = df.loc[:,relevant]"
   ]
  },
  {
   "cell_type": "code",
   "execution_count": 62,
   "id": "80a50c40",
   "metadata": {},
   "outputs": [],
   "source": [
    "def eliminateMissing(column_name):\n",
    "    if df.loc[:,column_name].dtypes.name == 'float64':\n",
    "        df.loc[:, column_name] = df.loc[:, column_name].fillna(-1)\n",
    "    elif df.loc[:, column_name].dtypes.name == 'object':\n",
    "        df.loc[:, column_name] = df.loc[:, column_name].fillna('missing')\n",
    "\n",
    "eliminateMissing('Age')\n",
    "eliminateMissing('Cabin')\n",
    "eliminateMissing('Embarked')"
   ]
  },
  {
   "cell_type": "code",
   "execution_count": 63,
   "id": "d7d4aeae",
   "metadata": {},
   "outputs": [
    {
     "data": {
      "text/plain": [
       "Survived    0\n",
       "Pclass      0\n",
       "Sex         0\n",
       "Age         0\n",
       "SibSp       0\n",
       "Parch       0\n",
       "Fare        0\n",
       "Cabin       0\n",
       "Embarked    0\n",
       "dtype: int64"
      ]
     },
     "execution_count": 63,
     "metadata": {},
     "output_type": "execute_result"
    }
   ],
   "source": [
    "df.isna().sum()"
   ]
  },
  {
   "cell_type": "code",
   "execution_count": 64,
   "id": "80b25e77",
   "metadata": {},
   "outputs": [],
   "source": [
    "train, test = sklearn.model_selection.train_test_split(df)"
   ]
  },
  {
   "cell_type": "code",
   "execution_count": 65,
   "id": "2ec46200",
   "metadata": {},
   "outputs": [],
   "source": [
    "le = preprocessing.LabelEncoder()\n",
    "def transform_categoricals(df1, column_name):\n",
    "    df1.loc[:, column_name] = le.fit_transform(df1.loc[:, column_name])"
   ]
  },
  {
   "cell_type": "code",
   "execution_count": 66,
   "id": "f34293ff",
   "metadata": {},
   "outputs": [
    {
     "data": {
      "text/plain": [
       "Survived      int64\n",
       "Pclass        int64\n",
       "Sex           int64\n",
       "Age         float64\n",
       "SibSp         int64\n",
       "Parch         int64\n",
       "Fare        float64\n",
       "Cabin         int64\n",
       "Embarked      int64\n",
       "dtype: object"
      ]
     },
     "execution_count": 66,
     "metadata": {},
     "output_type": "execute_result"
    }
   ],
   "source": [
    "for j in range(len(list(train))):\n",
    "    if train.iloc[:,j].dtypes.name == 'object':\n",
    "        transform_categoricals(train, train.columns[j])\n",
    "\n",
    "train.dtypes"
   ]
  },
  {
   "cell_type": "markdown",
   "id": "5223beda",
   "metadata": {},
   "source": [
    "## Fit the model"
   ]
  },
  {
   "cell_type": "code",
   "execution_count": 67,
   "id": "6dceca2d",
   "metadata": {},
   "outputs": [],
   "source": [
    "m = ensemble.RandomForestClassifier(n_estimators=500, min_samples_split=0.2, max_features=None)"
   ]
  },
  {
   "cell_type": "code",
   "execution_count": 68,
   "id": "f1cbcfeb",
   "metadata": {},
   "outputs": [],
   "source": [
    "predictors = ['Pclass', 'Sex', 'Age', 'SibSp', 'Parch', 'Fare', 'Cabin', 'Embarked']"
   ]
  },
  {
   "cell_type": "code",
   "execution_count": 69,
   "id": "e6e18acf",
   "metadata": {},
   "outputs": [
    {
     "data": {
      "text/plain": [
       "RandomForestClassifier(max_features=None, min_samples_split=0.2,\n",
       "                       n_estimators=500)"
      ]
     },
     "execution_count": 69,
     "metadata": {},
     "output_type": "execute_result"
    }
   ],
   "source": [
    "m.fit(X=train.loc[:, predictors], y=train.Survived)"
   ]
  },
  {
   "cell_type": "markdown",
   "id": "2c549335",
   "metadata": {},
   "source": [
    "## Out-of-sample Test\n"
   ]
  },
  {
   "cell_type": "code",
   "execution_count": 70,
   "id": "9439a259",
   "metadata": {},
   "outputs": [],
   "source": [
    "for j in range(len(list(test))):\n",
    "    if test.iloc[:,j].dtypes.name == 'object':\n",
    "        transform_categoricals(test, test.columns[j])"
   ]
  },
  {
   "cell_type": "code",
   "execution_count": 71,
   "id": "57e38a6b",
   "metadata": {},
   "outputs": [],
   "source": [
    "predictions = pd.Series(m.predict(test.loc[:, predictors]), name='predictions', index=test.index)"
   ]
  },
  {
   "cell_type": "code",
   "execution_count": 72,
   "id": "17d6991b",
   "metadata": {},
   "outputs": [
    {
     "name": "stdout",
     "output_type": "stream",
     "text": [
      "Accuracy: 0.7668161434977578\n"
     ]
    },
    {
     "data": {
      "image/png": "[encoded data removed]",
      "text/plain": [
       "<Figure size 432x288 with 2 Axes>"
      ]
     },
     "metadata": {
      "needs_background": "light"
     },
     "output_type": "display_data"
    }
   ],
   "source": [
    "comparer = pd.concat([test.Survived, predictions], axis=1)\n",
    "\n",
    "cm = confusion_matrix(comparer.Survived, comparer.predictions)\n",
    "\n",
    "disp=ConfusionMatrixDisplay(cm, display_labels=['Survived', 'Not'])\n",
    "disp.plot()\n",
    "acc= accuracy_score(comparer.Survived, comparer.predictions)\n",
    "print(f\"Accuracy: {acc}\")\n",
    "\n"
   ]
  },
  {
   "cell_type": "code",
   "execution_count": null,
   "id": "a4ea8256",
   "metadata": {},
   "outputs": [],
   "source": []
  }
 ],
 "metadata": {
  "kernelspec": {
   "display_name": "Python 3 (ipykernel)",
   "language": "python",
   "name": "python3"
  },
  "language_info": {
   "codemirror_mode": {
    "name": "ipython",
    "version": 3
   },
   "file_extension": ".py",
   "mimetype": "text/x-python",
   "name": "python",
   "nbconvert_exporter": "python",
   "pygments_lexer": "ipython3",
   "version": "3.9.1"
  }
 },
 "nbformat": 4,
 "nbformat_minor": 5
}
